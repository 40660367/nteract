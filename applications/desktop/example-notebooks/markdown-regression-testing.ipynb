{
  "cells": [
    {
      "cell_type": "markdown",
      "source": [
        "# Watching Paint Dry\n",
        "\n",
        "The composited _color_ of the **paint** must not change during drying. The\n",
        "optical blending function is used with this constraint to compensate for the new\n",
        "dry layer $C_{d}^{\\prime}$, when some volume $\\delta_{\\alpha}$ is removed from\n",
        "the wet layer.\n",
        "\n",
        "$$\n",
        "C_{d}^{\\prime} = \\frac{\\alpha \\times C_{w} + (1 - \\delta) \\times C_d - a^{\\prime}C_w}{1 - \\alpha^\\prime}, \\alpha^\\prime = \\alpha - \\delta_\\alpha\n",
        "$$\n",
        "\n",
        "The dry layer of the canvas uses a relative height field to allow for unlimited\n",
        "volume of paint to be added, with a constraint only on the relative change in\n",
        "height between texels."
      ],
      "metadata": {}
    },
    {
      "cell_type": "code",
      "source": [
        "from IPython.display import Markdown\n",
        "Markdown(r\"\"\"# Non-Homogeneous Poisson Process Likelihood Function\n",
        "$$\n",
        "\\frac{\\left(Λ_{0,T}\\left(t\\right)\\right)^k e^{\\left(Λ_{0,T}\\left(t\\right)\\right)}}{k!}\n",
        "$$\"\"\")"
      ],
      "outputs": [
        {
          "output_type": "execute_result",
          "execution_count": 1,
          "data": {
            "text/plain": [
              "<IPython.core.display.Markdown object>"
            ],
            "text/markdown": [
              "# Non-Homogeneous Poisson Process Likelihood Function\n",
              "$$\n",
              "\\frac{\\left(Λ_{0,T}\\left(t\\right)\\right)^k e^{\\left(Λ_{0,T}\\left(t\\right)\\right)}}{k!}\n",
              "$$"
            ]
          },
          "metadata": {}
        }
      ],
      "execution_count": 1,
      "metadata": {
        "collapsed": false,
        "outputHidden": false,
        "inputHidden": false
      }
    },
    {
      "cell_type": "code",
      "source": [
        "from IPython.display import Latex\n",
        "display(Latex(r\"\\LaTeX\"))"
      ],
      "outputs": [
        {
          "output_type": "display_data",
          "data": {
            "text/plain": [
              "<IPython.core.display.Latex object>"
            ],
            "text/latex": [
              "\\LaTeX"
            ]
          },
          "metadata": {}
        }
      ],
      "execution_count": 2,
      "metadata": {
        "collapsed": false,
        "outputHidden": false,
        "inputHidden": false
      }
    },
    {
      "cell_type": "code",
      "source": [
        "from IPython.display import Latex\n",
        "Latex(r\"\"\"\\begin{eqnarray}\n",
        "\\nabla \\times \\vec{\\mathbf{B}} -\\, \\frac1c\\, \\frac{\\partial\\vec{\\mathbf{E}}}{\\partial t} & = & \\frac{4\\pi}{c}\\vec{\\mathbf{j}} \\\\\n",
        "\\nabla \\cdot \\vec{\\mathbf{E}} & = & 4 \\pi \\rho \\\\\n",
        "\\nabla \\times \\vec{\\mathbf{E}}\\, +\\, \\frac1c\\, \\frac{\\partial\\vec{\\mathbf{B}}}{\\partial t} & = & \\vec{\\mathbf{0}} \\\\\n",
        "\\nabla \\cdot \\vec{\\mathbf{B}} & = & 0 \n",
        "\\end{eqnarray}\"\"\")"
      ],
      "outputs": [
        {
          "output_type": "execute_result",
          "execution_count": 3,
          "data": {
            "text/plain": [
              "<IPython.core.display.Latex object>"
            ],
            "text/latex": [
              "\\begin{eqnarray}\n",
              "\\nabla \\times \\vec{\\mathbf{B}} -\\, \\frac1c\\, \\frac{\\partial\\vec{\\mathbf{E}}}{\\partial t} & = & \\frac{4\\pi}{c}\\vec{\\mathbf{j}} \\\\\n",
              "\\nabla \\cdot \\vec{\\mathbf{E}} & = & 4 \\pi \\rho \\\\\n",
              "\\nabla \\times \\vec{\\mathbf{E}}\\, +\\, \\frac1c\\, \\frac{\\partial\\vec{\\mathbf{B}}}{\\partial t} & = & \\vec{\\mathbf{0}} \\\\\n",
              "\\nabla \\cdot \\vec{\\mathbf{B}} & = & 0 \n",
              "\\end{eqnarray}"
            ]
          },
          "metadata": {}
        }
      ],
      "execution_count": 3,
      "metadata": {
        "collapsed": false,
        "outputHidden": false,
        "inputHidden": false
      }
    }
  ],
  "metadata": {
    "kernelspec": {
      "name": "python3",
      "language": "python",
      "display_name": "Python 3"
    },
    "kernel_info": {
      "name": "python3"
    },
    "language_info": {
      "name": "python",
      "version": "3.6.4",
      "mimetype": "text/x-python",
      "codemirror_mode": {
        "name": "ipython",
        "version": 3
      },
      "pygments_lexer": "ipython3",
      "nbconvert_exporter": "python",
      "file_extension": ".py"
    },
    "nteract": {
      "version": "0.6.2"
    }
  },
  "nbformat": 4,
  "nbformat_minor": 4
}