{
  "cells": [
    {
      "cell_type": "markdown",
      "source": [
        "# Convert a pandas dataframe to geojson for web-mapping\n",
        "\n",
        "Author: Geoff Boeing\n",
        "\nOriginal: [pandas-to-geojson](https://github.com/gboeing/urban-data-science/blob/dc86c9c89b73f87f97301883d7456f1f814589f5/17-Leaflet-Web-Mapping/pandas-to-geojson.ipynb)"
      ],
      "metadata": {}
    },
    {
      "cell_type": "code",
      "source": [
        "import pandas as pd, requests, json"
      ],
      "outputs": [],
      "execution_count": 1,
      "metadata": {
        "collapsed": false
      }
    },
    {
      "cell_type": "markdown",
      "source": [
        "First download data from the city of Berkeley's API. You can use Socrata's $limit parameter to specify how many rows to grab (otherwise the default is 1,000 rows of data): https://dev.socrata.com/docs/paging.html\n",
        "\nExample request: https://data.cityofberkeley.info/resource/k489-uv4i.json?$limit=5"
      ],
      "metadata": {}
    },
    {
      "cell_type": "code",
      "source": [
        "# API endpoint for city of Berkeley's 311 calls\n",
        "endpoint_url = 'https://data.cityofberkeley.info/resource/k489-uv4i.json?$limit=20'"
      ],
      "outputs": [],
      "execution_count": 2,
      "metadata": {
        "collapsed": true
      }
    },
    {
      "cell_type": "code",
      "source": [
        "# fetch the URL and load the data\n",
        "response = requests.get(endpoint_url)\n",
        "data = response.json()"
      ],
      "outputs": [],
      "execution_count": 3,
      "metadata": {
        "collapsed": true
      }
    },
    {
      "cell_type": "markdown",
      "source": [
        "Next, turn the json data into a dataframe and clean it up a bit: drop unnecessary columns and any rows that lack lat-long data. We want to make our json file as small as possible (prefer under 5 mb) so that it can be loaded over the Internet to anyone viewing your map, without taking forever to download a huge file."
      ],
      "metadata": {}
    },
    {
      "cell_type": "code",
      "source": [
        "# turn the json data into a dataframe and see how many rows and what columns we have\n",
        "df = pd.DataFrame(data)\n",
        "\n",
        "print('We have {} rows'.format(len(df)))\n",
        "str(df.columns.tolist())"
      ],
      "outputs": [
        {
          "output_type": "stream",
          "name": "stdout",
          "text": [
            "We have 20 rows\n"
          ]
        },
        {
          "output_type": "execute_result",
          "execution_count": 4,
          "data": {
            "text/plain": [
              "\"['apn', 'city', 'indbdate', 'issue_description', 'issue_type', 'latitude', 'location', 'longitude', 'neighborhood_district', 'object_type', 'secondary_issue_type', 'state', 'street_address', 'ticket_closed_date_time', 'ticket_created_date_time', 'ticket_id', 'ticket_status']\""
            ]
          },
          "metadata": {}
        }
      ],
      "execution_count": 4,
      "metadata": {
        "collapsed": false
      }
    },
    {
      "cell_type": "code",
      "source": [
        "# convert lat-long to floats and change address from ALL CAPS to regular capitalization\n",
        "df['latitude'] = df['latitude'].astype(float)\n",
        "df['longitude'] = df['longitude'].astype(float)\n",
        "df['street_address'] = df['street_address'].str.title()"
      ],
      "outputs": [],
      "execution_count": 5,
      "metadata": {
        "collapsed": true
      }
    },
    {
      "cell_type": "code",
      "source": [
        "# we don't need all those columns - only keep useful ones\n",
        "cols = ['issue_description', 'issue_type', 'latitude', 'longitude', 'street_address', 'ticket_status']\n",
        "df_subset = df[cols]"
      ],
      "outputs": [],
      "execution_count": 6,
      "metadata": {
        "collapsed": false
      }
    },
    {
      "cell_type": "code",
      "source": [
        "# drop any rows that lack lat/long data\n",
        "df_geo = df_subset.dropna(subset=['latitude', 'longitude'], axis=0, inplace=False)\n",
        "\n",
        "print('We have {} geotagged rows'.format(len(df_geo)))\n",
        "df_geo.tail()"
      ],
      "outputs": [
        {
          "output_type": "stream",
          "name": "stdout",
          "text": [
            "We have 8 geotagged rows\n"
          ]
        },
        {
          "output_type": "execute_result",
          "execution_count": 7,
          "data": {
            "text/plain": [
              "                  issue_description                              issue_type  \\\n",
              "12                      Application                        Business License   \n",
              "13         Residential Bulky Pickup                    Refuse and Recycling   \n",
              "14        Commercial Special Pickup                    Refuse and Recycling   \n",
              "16  Illegal Dumping - City Property  Streets, Utilities, and Transportation   \n",
              "19         Residential Service Stop                    Refuse and Recycling   \n",
              "\n",
              "     latitude   longitude    street_address ticket_status  \n",
              "12  37.857073 -122.258698  2918 Florence St        Closed  \n",
              "13  37.857077 -122.240570    47 Alvarado Rd        Closed  \n",
              "14  37.865041 -122.264094     2230 Haste St        Closed  \n",
              "16  37.864497 -122.293439     2240 Ninth St        Closed  \n",
              "19  37.876000 -122.293046   1127 Hopkins St        Closed  "
            ],
            "text/html": [
              "<div>\n",
              "<table border=\"1\" class=\"dataframe\">\n",
              "  <thead>\n",
              "    <tr style=\"text-align: right;\">\n",
              "      <th></th>\n",
              "      <th>issue_description</th>\n",
              "      <th>issue_type</th>\n",
              "      <th>latitude</th>\n",
              "      <th>longitude</th>\n",
              "      <th>street_address</th>\n",
              "      <th>ticket_status</th>\n",
              "    </tr>\n",
              "  </thead>\n",
              "  <tbody>\n",
              "    <tr>\n",
              "      <th>12</th>\n",
              "      <td>Application</td>\n",
              "      <td>Business License</td>\n",
              "      <td>37.857073</td>\n",
              "      <td>-122.258698</td>\n",
              "      <td>2918 Florence St</td>\n",
              "      <td>Closed</td>\n",
              "    </tr>\n",
              "    <tr>\n",
              "      <th>13</th>\n",
              "      <td>Residential Bulky Pickup</td>\n",
              "      <td>Refuse and Recycling</td>\n",
              "      <td>37.857077</td>\n",
              "      <td>-122.240570</td>\n",
              "      <td>47 Alvarado Rd</td>\n",
              "      <td>Closed</td>\n",
              "    </tr>\n",
              "    <tr>\n",
              "      <th>14</th>\n",
              "      <td>Commercial Special Pickup</td>\n",
              "      <td>Refuse and Recycling</td>\n",
              "      <td>37.865041</td>\n",
              "      <td>-122.264094</td>\n",
              "      <td>2230 Haste St</td>\n",
              "      <td>Closed</td>\n",
              "    </tr>\n",
              "    <tr>\n",
              "      <th>16</th>\n",
              "      <td>Illegal Dumping - City Property</td>\n",
              "      <td>Streets, Utilities, and Transportation</td>\n",
              "      <td>37.864497</td>\n",
              "      <td>-122.293439</td>\n",
              "      <td>2240 Ninth St</td>\n",
              "      <td>Closed</td>\n",
              "    </tr>\n",
              "    <tr>\n",
              "      <th>19</th>\n",
              "      <td>Residential Service Stop</td>\n",
              "      <td>Refuse and Recycling</td>\n",
              "      <td>37.876000</td>\n",
              "      <td>-122.293046</td>\n",
              "      <td>1127 Hopkins St</td>\n",
              "      <td>Closed</td>\n",
              "    </tr>\n",
              "  </tbody>\n",
              "</table>\n",
              "</div>"
            ]
          },
          "metadata": {}
        }
      ],
      "execution_count": 7,
      "metadata": {
        "collapsed": false
      }
    },
    {
      "cell_type": "code",
      "source": [
        "# what is the distribution of issue types?\n",
        "df_geo['issue_type'].value_counts()"
      ],
      "outputs": [
        {
          "output_type": "execute_result",
          "execution_count": 8,
          "data": {
            "text/plain": [
              "Refuse and Recycling                      6\n",
              "Streets, Utilities, and Transportation    1\n",
              "Business License                          1\n",
              "Name: issue_type, dtype: int64"
            ]
          },
          "metadata": {}
        }
      ],
      "execution_count": 8,
      "metadata": {
        "collapsed": false
      }
    },
    {
      "cell_type": "markdown",
      "source": [
        "Finally, convert each row in the dataframe to a geojson-formatted feature and save the result as a file. The format is pretty simple and you can see it here: http://geojson.org/"
      ],
      "metadata": {}
    },
    {
      "cell_type": "code",
      "source": [
        "def df_to_geojson(df, properties, lat='latitude', lon='longitude'):\n",
        "    # create a new python dict to contain our geojson data, using geojson format\n",
        "    geojson = {'type':'FeatureCollection', 'features':[]}\n",
        "\n",
        "    # loop through each row in the dataframe and convert each row to geojson format\n",
        "    for _, row in df.iterrows():\n",
        "        # create a feature template to fill in\n",
        "        feature = {'type':'Feature',\n",
        "                   'properties':{},\n",
        "                   'geometry':{'type':'Point',\n",
        "                               'coordinates':[]}}\n",
        "\n",
        "        # fill in the coordinates\n",
        "        feature['geometry']['coordinates'] = [row[lon],row[lat]]\n",
        "\n",
        "        # for each column, get the value and add it as a new feature property\n",
        "        for prop in properties:\n",
        "            feature['properties'][prop] = row[prop]\n",
        "        \n",
        "        # add this feature (aka, converted dataframe row) to the list of features inside our dict\n",
        "        geojson['features'].append(feature)\n",
        "    \n",
        "    return geojson"
      ],
      "outputs": [],
      "execution_count": 9,
      "metadata": {
        "collapsed": false
      }
    },
    {
      "cell_type": "code",
      "source": [
        "cols = ['street_address', 'issue_description', 'issue_type', 'ticket_status']\n",
        "geojson = df_to_geojson(df_geo, cols)"
      ],
      "outputs": [],
      "execution_count": 10,
      "metadata": {
        "collapsed": true
      }
    },
    {
      "cell_type": "markdown",
      "source": [
        "In [nteract](https://github.com/nteract/nteract), we can display geojson directly with the built-in leaflet renderer."
      ],
      "metadata": {}
    },
    {
      "cell_type": "code",
      "source": [
        "import IPython\n",
        "IPython.display.display({'application/geo+json': geojson}, raw=True)"
      ],
      "outputs": [
        {
          "output_type": "display_data",
          "data": {
            "application/geo+json": {
              "type": "FeatureCollection",
              "features": [
                {
                  "type": "Feature",
                  "geometry": {
                    "coordinates": [
                      -122.27359041,
                      37.88639765
                    ],
                    "type": "Point"
                  },
                  "properties": {
                    "street_address": "1938 Hopkins St",
                    "issue_description": "Residential Reminder",
                    "issue_type": "Refuse and Recycling",
                    "ticket_status": "Closed"
                  }
                },
                {
                  "type": "Feature",
                  "geometry": {
                    "coordinates": [
                      -122.26823527,
                      37.8677399
                    ],
                    "type": "Point"
                  },
                  "properties": {
                    "street_address": "2286 Shattuck Ave",
                    "issue_description": "Commercial Missed Pickup",
                    "issue_type": "Refuse and Recycling",
                    "ticket_status": "Closed"
                  }
                },
                {
                  "type": "Feature",
                  "geometry": {
                    "coordinates": [
                      -122.2912973,
                      37.86847657
                    ],
                    "type": "Point"
                  },
                  "properties": {
                    "street_address": "1111 Addison St",
                    "issue_description": "Commercial Customer Complaint",
                    "issue_type": "Refuse and Recycling",
                    "ticket_status": "Closed"
                  }
                },
                {
                  "type": "Feature",
                  "geometry": {
                    "coordinates": [
                      -122.25869821,
                      37.85707272
                    ],
                    "type": "Point"
                  },
                  "properties": {
                    "street_address": "2918 Florence St",
                    "issue_description": "Application",
                    "issue_type": "Business License",
                    "ticket_status": "Closed"
                  }
                },
                {
                  "type": "Feature",
                  "geometry": {
                    "coordinates": [
                      -122.24056952,
                      37.85707668
                    ],
                    "type": "Point"
                  },
                  "properties": {
                    "street_address": "47 Alvarado Rd",
                    "issue_description": "Residential Bulky Pickup",
                    "issue_type": "Refuse and Recycling",
                    "ticket_status": "Closed"
                  }
                },
                {
                  "type": "Feature",
                  "geometry": {
                    "coordinates": [
                      -122.2640937,
                      37.86504135
                    ],
                    "type": "Point"
                  },
                  "properties": {
                    "street_address": "2230 Haste St",
                    "issue_description": "Commercial Special Pickup",
                    "issue_type": "Refuse and Recycling",
                    "ticket_status": "Closed"
                  }
                },
                {
                  "type": "Feature",
                  "geometry": {
                    "coordinates": [
                      -122.29343892,
                      37.86449705
                    ],
                    "type": "Point"
                  },
                  "properties": {
                    "street_address": "2240 Ninth St",
                    "issue_description": "Illegal Dumping - City Property",
                    "issue_type": "Streets, Utilities, and Transportation",
                    "ticket_status": "Closed"
                  }
                },
                {
                  "type": "Feature",
                  "geometry": {
                    "coordinates": [
                      -122.29304648,
                      37.87599977
                    ],
                    "type": "Point"
                  },
                  "properties": {
                    "street_address": "1127 Hopkins St",
                    "issue_description": "Residential Service Stop",
                    "issue_type": "Refuse and Recycling",
                    "ticket_status": "Closed"
                  }
                }
              ]
            }
          },
          "metadata": {}
        }
      ],
      "execution_count": 11,
      "metadata": {
        "collapsed": false
      }
    }
  ],
  "metadata": {
    "LICENSE": "MIT License\n\nCopyright (c) 2016 Geoff Boeing, http://geoffboeing.com\n\nPermission is hereby granted, free of charge, to any person obtaining a copy\nof this software and associated documentation files (the \"Software\"), to deal\nin the Software without restriction, including without limitation the rights\nto use, copy, modify, merge, publish, distribute, sublicense, and/or sell\ncopies of the Software, and to permit persons to whom the Software is\nfurnished to do so, subject to the following conditions:\n\nThe above copyright notice and this permission notice shall be included in all\ncopies or substantial portions of the Software.\n\nTHE SOFTWARE IS PROVIDED \"AS IS\", WITHOUT WARRANTY OF ANY KIND, EXPRESS OR\nIMPLIED, INCLUDING BUT NOT LIMITED TO THE WARRANTIES OF MERCHANTABILITY,\nFITNESS FOR A PARTICULAR PURPOSE AND NONINFRINGEMENT. IN NO EVENT SHALL THE\nAUTHORS OR COPYRIGHT HOLDERS BE LIABLE FOR ANY CLAIM, DAMAGES OR OTHER\nLIABILITY, WHETHER IN AN ACTION OF CONTRACT, TORT OR OTHERWISE, ARISING FROM,\nOUT OF OR IN CONNECTION WITH THE SOFTWARE OR THE USE OR OTHER DEALINGS IN THE\nSOFTWARE.",
    "kernel_info": {
      "name": "python3"
    },
    "kernelspec": {
      "name": "python3",
      "language": "python",
      "display_name": "Python 3"
    },
    "language_info": {
      "name": "python",
      "version": "3.6.3",
      "mimetype": "text/x-python",
      "codemirror_mode": {
        "name": "ipython",
        "version": 3
      },
      "pygments_lexer": "ipython3",
      "nbconvert_exporter": "python",
      "file_extension": ".py"
    },
    "nteract": {
      "version": "0.8.3"
    }
  },
  "nbformat": 4,
  "nbformat_minor": 0
}