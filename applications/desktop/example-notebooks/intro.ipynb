{
  "cells": [
    {
      "cell_type": "markdown",
      "source": [
        "## The Notable Nteract Notebook\n",
        "\n",
        "![comp](https://assets-cdn.github.com/images/icons/emoji/unicode/1f4d3.png)\n",
        "\n",
        "**It's a notebook!**\n",
        "\n",
        "This is a standalone notebook for interacting with the REPL of your choice, being built at [nteract/nteract](https://github.com/nteract/nteract). The primary goals are:\n",
        "\n",
        "* Standalone distributable application for the notebook (in Electron!)\n",
        "* One click installers for macOS and Windows\n",
        "* Bundles a kernel with scientific Python packages\n",
        "* Integrates well with the current ecosystem of tooling\n",
        "  * Should be able to detect other kernels\n",
        "  * Comms should work (for ipywidgets)"
      ],
      "metadata": {}
    },
    {
      "cell_type": "code",
      "source": [
        "import IPython\n",
        "\n",
        "from IPython.display import HTML\n",
        "from IPython.display import Markdown\n",
        "from IPython.display import display\n",
        "\n",
        "display(HTML(\"<h1>Multiple</h1>\"))\n",
        "display(HTML(\"<p>Display Elements</p>\"))\n",
        "display(Markdown('**awesome**'))\n",
        "\n",
        "print('hey')\n",
        "42"
      ],
      "outputs": [
        {
          "output_type": "display_data",
          "data": {
            "text/html": [
              "<h1>Multiple</h1>"
            ],
            "text/plain": [
              "<IPython.core.display.HTML object>"
            ]
          },
          "metadata": {}
        },
        {
          "output_type": "display_data",
          "data": {
            "text/html": [
              "<p>Display Elements</p>"
            ],
            "text/plain": [
              "<IPython.core.display.HTML object>"
            ]
          },
          "metadata": {}
        },
        {
          "output_type": "display_data",
          "data": {
            "text/markdown": [
              "**awesome**"
            ],
            "text/plain": [
              "<IPython.core.display.Markdown object>"
            ]
          },
          "metadata": {}
        },
        {
          "output_type": "stream",
          "name": "stdout",
          "text": [
            "hey\n"
          ]
        },
        {
          "output_type": "execute_result",
          "execution_count": 11,
          "data": {
            "text/plain": [
              "42"
            ]
          },
          "metadata": {}
        }
      ],
      "execution_count": 11,
      "metadata": {
        "collapsed": false
      }
    },
    {
      "cell_type": "code",
      "source": [
        "! ls .."
      ],
      "outputs": [
        {
          "output_type": "stream",
          "name": "stdout",
          "text": [
            "LICENSE        app.js         main.css       \u001b[34mnode_modules\u001b[m\u001b[m   \u001b[34msrc\u001b[m\u001b[m\r\n",
            "README.md      index.html     main.js        package.json   \u001b[34mtest-notebooks\u001b[m\u001b[m\r\n"
          ]
        }
      ],
      "execution_count": 3,
      "metadata": {
        "collapsed": false
      }
    },
    {
      "cell_type": "code",
      "source": [
        "thistextwillerror"
      ],
      "outputs": [
        {
          "output_type": "error",
          "ename": "NameError",
          "evalue": "name 'thistextwillerror' is not defined",
          "traceback": [
            "\u001b[0;31m---------------------------------------------------------------------------\u001b[0m",
            "\u001b[0;31mNameError\u001b[0m                                 Traceback (most recent call last)",
            "\u001b[0;32m<ipython-input-4-11420afa3bbc>\u001b[0m in \u001b[0;36m<module>\u001b[0;34m()\u001b[0m\n\u001b[0;32m----> 1\u001b[0;31m \u001b[0mthistextwillerror\u001b[0m\u001b[0;34m\u001b[0m\u001b[0m\n\u001b[0m",
            "\u001b[0;31mNameError\u001b[0m: name 'thistextwillerror' is not defined"
          ]
        }
      ],
      "execution_count": 4,
      "metadata": {
        "collapsed": false
      }
    },
    {
      "cell_type": "code",
      "source": [
        "from IPython.display import Image\n",
        "Image(url='https://avatars2.githubusercontent.com/u/12401040?v=3&s=200')"
      ],
      "outputs": [
        {
          "output_type": "execute_result",
          "execution_count": 7,
          "data": {
            "text/html": [
              "<img src=\"https://avatars2.githubusercontent.com/u/12401040?v=3&s=200\"/>"
            ],
            "text/plain": [
              "<IPython.core.display.Image object>"
            ]
          },
          "metadata": {}
        }
      ],
      "execution_count": 7,
      "metadata": {
        "collapsed": false
      }
    },
    {
      "cell_type": "code",
      "source": [],
      "outputs": [],
      "execution_count": null,
      "metadata": {
        "collapsed": true
      }
    }
  ],
  "metadata": {
    "kernelspec": {
      "name": "python3",
      "language": "python",
      "display_name": "Python 3"
    },
    "language_info": {
      "name": "python",
      "version": "3.6.3",
      "mimetype": "text/x-python",
      "codemirror_mode": {
        "name": "ipython",
        "version": 3
      },
      "pygments_lexer": "ipython3",
      "nbconvert_exporter": "python",
      "file_extension": ".py"
    },
    "kernel_info": {
      "name": "python3"
    },
    "nteract": {
      "version": "0.8.3"
    }
  },
  "nbformat": 4,
  "nbformat_minor": 0
}